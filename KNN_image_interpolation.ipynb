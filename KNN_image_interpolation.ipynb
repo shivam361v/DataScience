{
  "nbformat": 4,
  "nbformat_minor": 0,
  "metadata": {
    "colab": {
      "provenance": [],
      "authorship_tag": "ABX9TyPUaupzmXPwAzaRGx0YuBuE",
      "include_colab_link": true
    },
    "kernelspec": {
      "name": "python3",
      "display_name": "Python 3"
    },
    "language_info": {
      "name": "python"
    }
  },
  "cells": [
    {
      "cell_type": "markdown",
      "metadata": {
        "id": "view-in-github",
        "colab_type": "text"
      },
      "source": [
        "<a href=\"https://colab.research.google.com/github/shivam361v/DataScience/blob/main/KNN_image_interpolation.ipynb\" target=\"_parent\"><img src=\"https://colab.research.google.com/assets/colab-badge.svg\" alt=\"Open In Colab\"/></a>"
      ]
    },
    {
      "cell_type": "code",
      "execution_count": 4,
      "metadata": {
        "id": "ZqiORNDPDhoK"
      },
      "outputs": [],
      "source": [
        "# Import libraries\n",
        "import numpy as np\n",
        "import cv2\n",
        "from sklearn.neighbors import NearestNeighbors"
      ]
    },
    {
      "cell_type": "code",
      "source": [
        "\n",
        "# Load the low-resolution image and the training set\n",
        "img = cv2.imread('low_res_image.jpg', cv2.IMREAD_GRAYSCALE)\n",
        "F = np.load('feature_vectors.npy')\n",
        "Y = np.load('pixel_values.npy')\n"
      ],
      "metadata": {
        "colab": {
          "base_uri": "https://localhost:8080/",
          "height": 364
        },
        "id": "CPoxU3swIlC1",
        "outputId": "ccdf07e4-de75-42e5-a8ac-9bbf448c2b6f"
      },
      "execution_count": 7,
      "outputs": [
        {
          "output_type": "error",
          "ename": "FileNotFoundError",
          "evalue": "[Errno 2] No such file or directory: 'feature_vectors.npy'",
          "traceback": [
            "\u001b[0;31m---------------------------------------------------------------------------\u001b[0m",
            "\u001b[0;31mFileNotFoundError\u001b[0m                         Traceback (most recent call last)",
            "\u001b[0;32m<ipython-input-7-c9ac7fa13f6e>\u001b[0m in \u001b[0;36m<cell line: 3>\u001b[0;34m()\u001b[0m\n\u001b[1;32m      1\u001b[0m \u001b[0;31m# Load the low-resolution image and the training set\u001b[0m\u001b[0;34m\u001b[0m\u001b[0;34m\u001b[0m\u001b[0m\n\u001b[1;32m      2\u001b[0m \u001b[0mimg\u001b[0m \u001b[0;34m=\u001b[0m \u001b[0mcv2\u001b[0m\u001b[0;34m.\u001b[0m\u001b[0mimread\u001b[0m\u001b[0;34m(\u001b[0m\u001b[0;34m'/content/pexels-pixabay-46216.jpg'\u001b[0m\u001b[0;34m,\u001b[0m \u001b[0mcv2\u001b[0m\u001b[0;34m.\u001b[0m\u001b[0mIMREAD_GRAYSCALE\u001b[0m\u001b[0;34m)\u001b[0m\u001b[0;34m\u001b[0m\u001b[0;34m\u001b[0m\u001b[0m\n\u001b[0;32m----> 3\u001b[0;31m \u001b[0mF\u001b[0m \u001b[0;34m=\u001b[0m \u001b[0mnp\u001b[0m\u001b[0;34m.\u001b[0m\u001b[0mload\u001b[0m\u001b[0;34m(\u001b[0m\u001b[0;34m'feature_vectors.npy'\u001b[0m\u001b[0;34m)\u001b[0m\u001b[0;34m\u001b[0m\u001b[0;34m\u001b[0m\u001b[0m\n\u001b[0m\u001b[1;32m      4\u001b[0m \u001b[0mY\u001b[0m \u001b[0;34m=\u001b[0m \u001b[0mnp\u001b[0m\u001b[0;34m.\u001b[0m\u001b[0mload\u001b[0m\u001b[0;34m(\u001b[0m\u001b[0;34m'pixel_values.npy'\u001b[0m\u001b[0;34m)\u001b[0m\u001b[0;34m\u001b[0m\u001b[0;34m\u001b[0m\u001b[0m\n",
            "\u001b[0;32m/usr/local/lib/python3.10/dist-packages/numpy/lib/npyio.py\u001b[0m in \u001b[0;36mload\u001b[0;34m(file, mmap_mode, allow_pickle, fix_imports, encoding, max_header_size)\u001b[0m\n\u001b[1;32m    403\u001b[0m             \u001b[0mown_fid\u001b[0m \u001b[0;34m=\u001b[0m \u001b[0;32mFalse\u001b[0m\u001b[0;34m\u001b[0m\u001b[0;34m\u001b[0m\u001b[0m\n\u001b[1;32m    404\u001b[0m         \u001b[0;32melse\u001b[0m\u001b[0;34m:\u001b[0m\u001b[0;34m\u001b[0m\u001b[0;34m\u001b[0m\u001b[0m\n\u001b[0;32m--> 405\u001b[0;31m             \u001b[0mfid\u001b[0m \u001b[0;34m=\u001b[0m \u001b[0mstack\u001b[0m\u001b[0;34m.\u001b[0m\u001b[0menter_context\u001b[0m\u001b[0;34m(\u001b[0m\u001b[0mopen\u001b[0m\u001b[0;34m(\u001b[0m\u001b[0mos_fspath\u001b[0m\u001b[0;34m(\u001b[0m\u001b[0mfile\u001b[0m\u001b[0;34m)\u001b[0m\u001b[0;34m,\u001b[0m \u001b[0;34m\"rb\"\u001b[0m\u001b[0;34m)\u001b[0m\u001b[0;34m)\u001b[0m\u001b[0;34m\u001b[0m\u001b[0;34m\u001b[0m\u001b[0m\n\u001b[0m\u001b[1;32m    406\u001b[0m             \u001b[0mown_fid\u001b[0m \u001b[0;34m=\u001b[0m \u001b[0;32mTrue\u001b[0m\u001b[0;34m\u001b[0m\u001b[0;34m\u001b[0m\u001b[0m\n\u001b[1;32m    407\u001b[0m \u001b[0;34m\u001b[0m\u001b[0m\n",
            "\u001b[0;31mFileNotFoundError\u001b[0m: [Errno 2] No such file or directory: 'feature_vectors.npy'"
          ]
        }
      ]
    },
    {
      "cell_type": "code",
      "source": [
        "\n",
        "# Define the functions\n",
        "def extract_feature_vector(img, i, j, n):\n",
        "    # Extract a feature vector of size n*n from the local window around pixel (i,j)\n",
        "    h, w = img.shape\n",
        "    f = np.zeros((n*n,))\n",
        "    for k in range(n):\n",
        "        for l in range(n):\n",
        "            x = i + k - n//2\n",
        "            y = j + l - n//2\n",
        "            if 0 <= x < h and 0 <= y < w:\n",
        "                f[k*n + l] = img[x,y]\n",
        "    return f\n",
        "\n",
        "def find_k_nearest_neighbors(f, F, Y, t):\n",
        "    # Find the k nearest neighbors of f in F using the Euclidean distance and the similarity threshold\n",
        "    nbrs = NearestNeighbors(n_neighbors=len(F), metric='euclidean').fit(F)\n",
        "    distances, indices = nbrs.kneighbors([f])\n",
        "    k = np.argmax(distances > t)\n",
        "    if k == 0:\n",
        "        k = len(F)\n",
        "    return F[indices[0][:k]], Y[indices[0][:k]], distances[0][:k]\n",
        "\n",
        "def compute_weighted_MMSE_estimate(f, F, Y, d, sigma):\n",
        "    # Compute the weighted MMSE estimate of the pixel value using the neighbors and their distances\n",
        "    w = 1 / (sigma**2 + d**2)\n",
        "    w = w / np.sum(w)\n",
        "    x = np.dot(w, Y)\n",
        "    return x\n",
        "\n",
        "def apply_MRF_model(img, i, j, x, lambda, beta):\n",
        "    # Apply the MRF model using the neighboring pixels and the potential function\n",
        "    h, w = img.shape\n",
        "    N = [(i-1,j), (i+1,j), (i,j-1), (i,j+1)] # 4-neighborhood\n",
        "    E = lambda * np.sum([np.exp(-(x - img[x,y])**2 / (2 * beta**2)) for x,y in N if 0 <= x < h and 0 <= y < w])\n",
        "    x = x + E\n",
        "    return x\n",
        "\n"
      ],
      "metadata": {
        "id": "uqbWOil1Q0lw"
      },
      "execution_count": null,
      "outputs": []
    },
    {
      "cell_type": "code",
      "source": [
        "# Loop over each pixel and interpolate\n",
        "img_h = np.zeros((img.shape[0]*2, img.shape[1]*2)) # high-resolution image\n",
        "for i in range(img.shape[0]):\n",
        "    for j in range(img.shape[1]):\n",
        "        # Extract the feature vector\n",
        "        f = extract_feature_vector(img, i, j, n)\n",
        "        # Find the k nearest neighbors\n",
        "        F, Y, d = find_k_nearest_neighbors(f, F, Y, t)\n",
        "        # Compute the weighted MMSE estimate\n",
        "        x = compute_weighted_MMSE_estimate(f, F, Y, d, sigma)\n",
        "        # Apply the MRF model\n",
        "        x = apply_MRF_model(img, i, j, x, lambda, beta)\n",
        "        # Assign the interpolated pixel value\n",
        "        img_h[i*2, j*2] = x\n",
        "\n",
        "# Save the high-resolution image\n",
        "cv2.imwrite('high_res_image.jpg', img_h)\n"
      ],
      "metadata": {
        "id": "HkwK1S4dQ62w"
      },
      "execution_count": null,
      "outputs": []
    }
  ]
}