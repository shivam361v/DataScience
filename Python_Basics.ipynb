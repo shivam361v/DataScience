{
  "nbformat": 4,
  "nbformat_minor": 0,
  "metadata": {
    "colab": {
      "provenance": [],
      "toc_visible": true,
      "authorship_tag": "ABX9TyPbxLGQnq1tKYQcTQUljE5C",
      "include_colab_link": true
    },
    "kernelspec": {
      "name": "python3",
      "display_name": "Python 3"
    },
    "language_info": {
      "name": "python"
    }
  },
  "cells": [
    {
      "cell_type": "markdown",
      "metadata": {
        "id": "view-in-github",
        "colab_type": "text"
      },
      "source": [
        "<a href=\"https://colab.research.google.com/github/shivam361v/MachineLearning/blob/main/Python_Basics.ipynb\" target=\"_parent\"><img src=\"https://colab.research.google.com/assets/colab-badge.svg\" alt=\"Open In Colab\"/></a>"
      ]
    },
    {
      "cell_type": "code",
      "execution_count": null,
      "metadata": {
        "colab": {
          "base_uri": "https://localhost:8080/"
        },
        "id": "rRuduXTqCiIe",
        "outputId": "8889e3eb-d89b-46d5-ab21-9e720af1dab1"
      },
      "outputs": [
        {
          "output_type": "stream",
          "name": "stdout",
          "text": [
            "Enter your name ?Shivam\n",
            "Hello Shivam\n"
          ]
        }
      ],
      "source": [
        "name = input(\"Enter your name ?\");\n",
        "print(\"Hello\", name);"
      ]
    },
    {
      "cell_type": "code",
      "source": [
        "age = 24\n",
        "print(type(age))\n",
        "print(type(name))"
      ],
      "metadata": {
        "colab": {
          "base_uri": "https://localhost:8080/"
        },
        "id": "OaDLpLuGHnnN",
        "outputId": "0d531a0e-bf77-4f85-9f5c-1c62da0b2136"
      },
      "execution_count": null,
      "outputs": [
        {
          "output_type": "stream",
          "name": "stdout",
          "text": [
            "<class 'int'>\n",
            "<class 'str'>\n"
          ]
        }
      ]
    },
    {
      "cell_type": "code",
      "source": [
        "ShoppingList = input(\"Enter item to shop from market\");\n",
        "qty = [1, 2, 3, 4, 5];\n",
        "name = (\"Shivam\", \"Vishwakarma\");\n",
        "statement = \"{} will go to market to buy {}\";\n",
        "for x in qty:\n",
        "  print(x);\n",
        "if \"Shivam\" in name:\n",
        "  print(\"Yes, lets go to market\");\n",
        "print( name[1]);\n",
        "print(name[1].upper());\n",
        "print(name[0].split('v'));\n",
        "print(statement.format(name[0], name[1]));\n"
      ],
      "metadata": {
        "colab": {
          "base_uri": "https://localhost:8080/"
        },
        "id": "MtYXxQ6q7rzw",
        "outputId": "dd683f3b-d38b-4387-cd39-4259fc2c4d30"
      },
      "execution_count": null,
      "outputs": [
        {
          "output_type": "stream",
          "name": "stdout",
          "text": [
            "Enter item to shop from marketapple banana\n",
            "1\n",
            "2\n",
            "3\n",
            "4\n",
            "5\n",
            "Yes, lets go to market\n",
            "Vishwakarma\n",
            "VISHWAKARMA\n",
            "['Shi', 'am']\n",
            "Shivam will go to market to buy Vishwakarma\n"
          ]
        }
      ]
    },
    {
      "cell_type": "code",
      "source": [
        "sum = 10 + 20;\n",
        "powers = 10 ** 2;\n",
        "name1 = \"shivam\";\n",
        "name2 = \"Shivam\";\n",
        "if sum <= powers :\n",
        "  print('true');\n",
        "if 's' in name1:\n",
        "  print(\"Name contains letter 's' \");\n",
        "if name1 is name2:\n",
        "  print(\"Both names are the same\");"
      ],
      "metadata": {
        "colab": {
          "base_uri": "https://localhost:8080/"
        },
        "id": "SE17B1KrUJLf",
        "outputId": "0b652924-fac1-4fe3-a56a-e2818d36c3ca"
      },
      "execution_count": null,
      "outputs": [
        {
          "output_type": "stream",
          "name": "stdout",
          "text": [
            "true\n",
            "Name contains letter 's' \n"
          ]
        }
      ]
    }
  ]
}