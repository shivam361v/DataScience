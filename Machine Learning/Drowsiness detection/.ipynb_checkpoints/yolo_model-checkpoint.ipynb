{
 "cells": [
  {
   "cell_type": "code",
   "execution_count": 1,
   "id": "c4da966f-dfe0-4a97-af2d-caa7386c428c",
   "metadata": {
    "tags": []
   },
   "outputs": [],
   "source": [
    "#!git clone https://github.com/ultralytics/yolov5"
   ]
  },
  {
   "cell_type": "code",
   "execution_count": 2,
   "id": "f60c55dc-f051-47e8-8a00-4a1f88bcaa0b",
   "metadata": {
    "tags": []
   },
   "outputs": [
    {
     "name": "stdout",
     "output_type": "stream",
     "text": [
      "Defaulting to user installation because normal site-packages is not writeable\n",
      "Requirement already satisfied: gitpython>=3.1.30 in c:\\users\\shivam vishwakarma\\appdata\\roaming\\python\\python311\\site-packages (from -r requirements.txt (line 5)) (3.1.43)\n",
      "Requirement already satisfied: matplotlib>=3.3 in c:\\programdata\\anaconda3\\lib\\site-packages (from -r requirements.txt (line 6)) (3.7.2)\n",
      "Requirement already satisfied: numpy>=1.23.5 in c:\\programdata\\anaconda3\\lib\\site-packages (from -r requirements.txt (line 7)) (1.24.3)\n",
      "Requirement already satisfied: opencv-python>=4.1.1 in c:\\users\\shivam vishwakarma\\appdata\\roaming\\python\\python311\\site-packages (from -r requirements.txt (line 8)) (4.9.0.80)\n",
      "Requirement already satisfied: pillow>=10.3.0 in c:\\programdata\\anaconda3\\lib\\site-packages (from -r requirements.txt (line 9)) (10.3.0)\n",
      "Requirement already satisfied: psutil in c:\\programdata\\anaconda3\\lib\\site-packages (from -r requirements.txt (line 10)) (5.9.0)\n",
      "Requirement already satisfied: PyYAML>=5.3.1 in c:\\programdata\\anaconda3\\lib\\site-packages (from -r requirements.txt (line 11)) (6.0)\n",
      "Requirement already satisfied: requests>=2.32.0 in c:\\users\\shivam vishwakarma\\appdata\\roaming\\python\\python311\\site-packages (from -r requirements.txt (line 12)) (2.32.3)\n",
      "Requirement already satisfied: scipy>=1.4.1 in c:\\programdata\\anaconda3\\lib\\site-packages (from -r requirements.txt (line 13)) (1.11.1)\n",
      "Requirement already satisfied: thop>=0.1.1 in c:\\users\\shivam vishwakarma\\appdata\\roaming\\python\\python311\\site-packages (from -r requirements.txt (line 14)) (0.1.1.post2209072238)\n",
      "Requirement already satisfied: torch>=1.8.0 in c:\\users\\shivam vishwakarma\\appdata\\roaming\\python\\python311\\site-packages (from -r requirements.txt (line 15)) (2.3.1)\n",
      "Requirement already satisfied: torchvision>=0.9.0 in c:\\users\\shivam vishwakarma\\appdata\\roaming\\python\\python311\\site-packages (from -r requirements.txt (line 16)) (0.18.1)\n",
      "Requirement already satisfied: tqdm>=4.64.0 in c:\\programdata\\anaconda3\\lib\\site-packages (from -r requirements.txt (line 17)) (4.65.0)\n",
      "Requirement already satisfied: ultralytics>=8.2.34 in c:\\users\\shivam vishwakarma\\appdata\\roaming\\python\\python311\\site-packages (from -r requirements.txt (line 18)) (8.2.50)\n",
      "Requirement already satisfied: pandas>=1.1.4 in c:\\programdata\\anaconda3\\lib\\site-packages (from -r requirements.txt (line 27)) (2.0.3)\n",
      "Requirement already satisfied: seaborn>=0.11.0 in c:\\programdata\\anaconda3\\lib\\site-packages (from -r requirements.txt (line 28)) (0.12.2)\n",
      "Requirement already satisfied: setuptools>=65.5.1 in c:\\programdata\\anaconda3\\lib\\site-packages (from -r requirements.txt (line 42)) (68.0.0)\n",
      "Requirement already satisfied: gitdb<5,>=4.0.1 in c:\\users\\shivam vishwakarma\\appdata\\roaming\\python\\python311\\site-packages (from gitpython>=3.1.30->-r requirements.txt (line 5)) (4.0.11)\n",
      "Requirement already satisfied: contourpy>=1.0.1 in c:\\programdata\\anaconda3\\lib\\site-packages (from matplotlib>=3.3->-r requirements.txt (line 6)) (1.0.5)\n",
      "Requirement already satisfied: cycler>=0.10 in c:\\programdata\\anaconda3\\lib\\site-packages (from matplotlib>=3.3->-r requirements.txt (line 6)) (0.11.0)\n",
      "Requirement already satisfied: fonttools>=4.22.0 in c:\\programdata\\anaconda3\\lib\\site-packages (from matplotlib>=3.3->-r requirements.txt (line 6)) (4.25.0)\n",
      "Requirement already satisfied: kiwisolver>=1.0.1 in c:\\programdata\\anaconda3\\lib\\site-packages (from matplotlib>=3.3->-r requirements.txt (line 6)) (1.4.4)\n",
      "Requirement already satisfied: packaging>=20.0 in c:\\programdata\\anaconda3\\lib\\site-packages (from matplotlib>=3.3->-r requirements.txt (line 6)) (23.1)\n",
      "Requirement already satisfied: pyparsing<3.1,>=2.3.1 in c:\\programdata\\anaconda3\\lib\\site-packages (from matplotlib>=3.3->-r requirements.txt (line 6)) (3.0.9)\n",
      "Requirement already satisfied: python-dateutil>=2.7 in c:\\programdata\\anaconda3\\lib\\site-packages (from matplotlib>=3.3->-r requirements.txt (line 6)) (2.8.2)\n",
      "Requirement already satisfied: charset-normalizer<4,>=2 in c:\\programdata\\anaconda3\\lib\\site-packages (from requests>=2.32.0->-r requirements.txt (line 12)) (2.0.4)\n",
      "Requirement already satisfied: idna<4,>=2.5 in c:\\programdata\\anaconda3\\lib\\site-packages (from requests>=2.32.0->-r requirements.txt (line 12)) (3.4)\n",
      "Requirement already satisfied: urllib3<3,>=1.21.1 in c:\\programdata\\anaconda3\\lib\\site-packages (from requests>=2.32.0->-r requirements.txt (line 12)) (1.26.16)\n",
      "Requirement already satisfied: certifi>=2017.4.17 in c:\\programdata\\anaconda3\\lib\\site-packages (from requests>=2.32.0->-r requirements.txt (line 12)) (2024.6.2)\n",
      "Requirement already satisfied: filelock in c:\\programdata\\anaconda3\\lib\\site-packages (from torch>=1.8.0->-r requirements.txt (line 15)) (3.9.0)\n",
      "Requirement already satisfied: typing-extensions>=4.8.0 in c:\\users\\shivam vishwakarma\\appdata\\roaming\\python\\python311\\site-packages (from torch>=1.8.0->-r requirements.txt (line 15)) (4.12.2)\n",
      "Requirement already satisfied: sympy in c:\\programdata\\anaconda3\\lib\\site-packages (from torch>=1.8.0->-r requirements.txt (line 15)) (1.11.1)\n",
      "Requirement already satisfied: networkx in c:\\programdata\\anaconda3\\lib\\site-packages (from torch>=1.8.0->-r requirements.txt (line 15)) (3.1)\n",
      "Requirement already satisfied: jinja2 in c:\\programdata\\anaconda3\\lib\\site-packages (from torch>=1.8.0->-r requirements.txt (line 15)) (3.1.2)\n",
      "Requirement already satisfied: fsspec in c:\\programdata\\anaconda3\\lib\\site-packages (from torch>=1.8.0->-r requirements.txt (line 15)) (2023.4.0)\n",
      "Requirement already satisfied: mkl<=2021.4.0,>=2021.1.1 in c:\\users\\shivam vishwakarma\\appdata\\roaming\\python\\python311\\site-packages (from torch>=1.8.0->-r requirements.txt (line 15)) (2021.4.0)\n",
      "Requirement already satisfied: colorama in c:\\programdata\\anaconda3\\lib\\site-packages (from tqdm>=4.64.0->-r requirements.txt (line 17)) (0.4.6)\n",
      "Requirement already satisfied: py-cpuinfo in c:\\programdata\\anaconda3\\lib\\site-packages (from ultralytics>=8.2.34->-r requirements.txt (line 18)) (8.0.0)\n",
      "Requirement already satisfied: ultralytics-thop>=2.0.0 in c:\\users\\shivam vishwakarma\\appdata\\roaming\\python\\python311\\site-packages (from ultralytics>=8.2.34->-r requirements.txt (line 18)) (2.0.0)\n",
      "Requirement already satisfied: pytz>=2020.1 in c:\\programdata\\anaconda3\\lib\\site-packages (from pandas>=1.1.4->-r requirements.txt (line 27)) (2023.3.post1)\n",
      "Requirement already satisfied: tzdata>=2022.1 in c:\\programdata\\anaconda3\\lib\\site-packages (from pandas>=1.1.4->-r requirements.txt (line 27)) (2023.3)\n",
      "Requirement already satisfied: smmap<6,>=3.0.1 in c:\\users\\shivam vishwakarma\\appdata\\roaming\\python\\python311\\site-packages (from gitdb<5,>=4.0.1->gitpython>=3.1.30->-r requirements.txt (line 5)) (5.0.1)\n",
      "Requirement already satisfied: intel-openmp==2021.* in c:\\users\\shivam vishwakarma\\appdata\\roaming\\python\\python311\\site-packages (from mkl<=2021.4.0,>=2021.1.1->torch>=1.8.0->-r requirements.txt (line 15)) (2021.4.0)\n",
      "Requirement already satisfied: tbb==2021.* in c:\\users\\shivam vishwakarma\\appdata\\roaming\\python\\python311\\site-packages (from mkl<=2021.4.0,>=2021.1.1->torch>=1.8.0->-r requirements.txt (line 15)) (2021.13.0)\n",
      "Requirement already satisfied: six>=1.5 in c:\\programdata\\anaconda3\\lib\\site-packages (from python-dateutil>=2.7->matplotlib>=3.3->-r requirements.txt (line 6)) (1.16.0)\n",
      "Requirement already satisfied: MarkupSafe>=2.0 in c:\\programdata\\anaconda3\\lib\\site-packages (from jinja2->torch>=1.8.0->-r requirements.txt (line 15)) (2.1.1)\n",
      "Requirement already satisfied: mpmath>=0.19 in c:\\programdata\\anaconda3\\lib\\site-packages (from sympy->torch>=1.8.0->-r requirements.txt (line 15)) (1.3.0)\n"
     ]
    }
   ],
   "source": [
    "!cd yolov5 & pip install -r requirements.txt"
   ]
  },
  {
   "cell_type": "code",
   "execution_count": 8,
   "id": "fc7ae2d6-7ae5-435c-94b1-abfe545ca479",
   "metadata": {
    "tags": []
   },
   "outputs": [],
   "source": [
    "import torch\n",
    "from matplotlib import pyplot as plt\n",
    "import numpy as np\n",
    "import cv2\n",
    "import uuid   # Unique identifier\n",
    "import os\n",
    "import time"
   ]
  },
  {
   "cell_type": "code",
   "execution_count": null,
   "id": "ffbe7ff8-fec1-4b5f-b973-1d75464cf087",
   "metadata": {},
   "outputs": [],
   "source": []
  },
  {
   "cell_type": "code",
   "execution_count": 4,
   "id": "d5fb87de-0b21-4328-80dc-25e4d304b249",
   "metadata": {
    "tags": []
   },
   "outputs": [
    {
     "name": "stderr",
     "output_type": "stream",
     "text": [
      "Using cache found in C:\\Users\\SHIVAM VISHWAKARMA/.cache\\torch\\hub\\ultralytics_yolov5_master\n",
      "YOLOv5  2024-7-6 Python-3.11.5 torch-2.3.1+cpu CPU\n",
      "\n",
      "Fusing layers... \n",
      "YOLOv5s summary: 213 layers, 7225885 parameters, 0 gradients, 16.4 GFLOPs\n",
      "Adding AutoShape... \n"
     ]
    }
   ],
   "source": [
    "model = torch.hub.load('ultralytics/yolov5', 'yolov5s')"
   ]
  },
  {
   "cell_type": "code",
   "execution_count": 5,
   "id": "9a75b5af-3bf2-4bb8-920d-a0e9e4ca929c",
   "metadata": {
    "tags": []
   },
   "outputs": [
    {
     "data": {
      "text/plain": [
       "<matplotlib.image.AxesImage at 0x270bcd3d890>"
      ]
     },
     "execution_count": 5,
     "metadata": {},
     "output_type": "execute_result"
    }
   ],
   "source": [
    "img = 'img1.png'\n",
    "results = model(img)\n",
    "plt.imshow(np.squeeze(results.render()))"
   ]
  },
  {
   "cell_type": "code",
   "execution_count": 6,
   "id": "f9d9eb0b-be96-479d-bcbd-a23fd21df85f",
   "metadata": {
    "tags": []
   },
   "outputs": [],
   "source": [
    "cap = cv2.VideoCapture(0)\n",
    "while cap.isOpened():\n",
    "    ret, frame = cap.read()\n",
    "    \n",
    "    # Make detections \n",
    "    results = model(frame)\n",
    "    \n",
    "    cv2.imshow('YOLO', np.squeeze(results.render()))\n",
    "    \n",
    "    if cv2.waitKey(10) & 0xFF == ord('q'):\n",
    "        break\n",
    "cap.release()\n",
    "cv2.destroyAllWindows()"
   ]
  },
  {
   "cell_type": "code",
   "execution_count": 9,
   "id": "dd4e32eb-eba5-483f-9fae-d51dda6bfa82",
   "metadata": {
    "tags": []
   },
   "outputs": [],
   "source": [
    "IMAGES_PATH = os.path.join('data', 'images') #/data/images\n",
    "labels = ['awake', 'drowsy']\n",
    "number_imgs = 30"
   ]
  },
  {
   "cell_type": "code",
   "execution_count": 16,
   "id": "0b333895-865a-485e-8441-83201aed3349",
   "metadata": {
    "tags": []
   },
   "outputs": [
    {
     "name": "stdout",
     "output_type": "stream",
     "text": [
      "Collecting images for awake\n",
      "Collecting images for awake, image number 0\n",
      "Collecting images for awake, image number 1\n",
      "Collecting images for awake, image number 2\n",
      "Collecting images for awake, image number 3\n",
      "Collecting images for awake, image number 4\n",
      "Collecting images for awake, image number 5\n",
      "Collecting images for awake, image number 6\n",
      "Collecting images for awake, image number 7\n",
      "Collecting images for awake, image number 8\n",
      "Collecting images for awake, image number 9\n",
      "Collecting images for awake, image number 10\n",
      "Collecting images for awake, image number 11\n",
      "Collecting images for awake, image number 12\n",
      "Collecting images for awake, image number 13\n",
      "Collecting images for awake, image number 14\n",
      "Collecting images for awake, image number 15\n",
      "Collecting images for awake, image number 16\n",
      "Collecting images for drowsy\n",
      "Collecting images for drowsy, image number 0\n",
      "Collecting images for drowsy, image number 1\n",
      "Collecting images for drowsy, image number 2\n",
      "Collecting images for drowsy, image number 3\n",
      "Collecting images for drowsy, image number 4\n",
      "Collecting images for drowsy, image number 5\n",
      "Collecting images for drowsy, image number 6\n",
      "Collecting images for drowsy, image number 7\n",
      "Collecting images for drowsy, image number 8\n",
      "Collecting images for drowsy, image number 9\n",
      "Collecting images for drowsy, image number 10\n",
      "Collecting images for drowsy, image number 11\n",
      "Collecting images for drowsy, image number 12\n",
      "Collecting images for drowsy, image number 13\n",
      "Collecting images for drowsy, image number 14\n",
      "Collecting images for drowsy, image number 15\n",
      "Collecting images for drowsy, image number 16\n",
      "Collecting images for drowsy, image number 17\n",
      "Collecting images for drowsy, image number 18\n",
      "Collecting images for drowsy, image number 19\n",
      "Collecting images for drowsy, image number 20\n",
      "Collecting images for drowsy, image number 21\n",
      "Collecting images for drowsy, image number 22\n",
      "Collecting images for drowsy, image number 23\n",
      "Collecting images for drowsy, image number 24\n"
     ]
    }
   ],
   "source": [
    "#Image collection for custom dataset\n",
    "\n",
    "cap = cv2.VideoCapture(0)\n",
    "# Loop through labels\n",
    "for label in labels:\n",
    "    print('Collecting images for {}'.format(label))\n",
    "    time.sleep(5)\n",
    "    \n",
    "    # Loop through image range\n",
    "    for img_num in range(number_imgs):\n",
    "        print('Collecting images for {}, image number {}'.format(label, img_num))\n",
    "        \n",
    "        # Webcam feed\n",
    "        ret, frame = cap.read()\n",
    "        \n",
    "        # Naming out image path\n",
    "        imgname = os.path.join(IMAGES_PATH, label+'.'+str(uuid.uuid1())+'.jpg')\n",
    "        \n",
    "        # Writes out image to file \n",
    "        cv2.imwrite(imgname, frame)\n",
    "        \n",
    "        # Render to the screen\n",
    "        cv2.imshow('Image Collection', frame)\n",
    "        \n",
    "        # 2 second delay between captures\n",
    "        time.sleep(2)\n",
    "        \n",
    "        if cv2.waitKey(10) & 0xFF == ord('q'):\n",
    "            break\n",
    "cap.release()\n",
    "cv2.destroyAllWindows()"
   ]
  },
  {
   "cell_type": "code",
   "execution_count": 18,
   "id": "d476ef92-47d0-4e98-be5d-7591899e25de",
   "metadata": {
    "tags": []
   },
   "outputs": [
    {
     "name": "stdout",
     "output_type": "stream",
     "text": [
      "Collecting images for awake\n",
      "Collecting images for awake, image number 0\n",
      "data\\images\\awake.6eb260cb-3c2c-11ef-a2dc-bc0358c07960.jpg\n",
      "Collecting images for awake, image number 1\n",
      "data\\images\\awake.6eb260cc-3c2c-11ef-83c7-bc0358c07960.jpg\n",
      "Collecting images for awake, image number 2\n",
      "data\\images\\awake.6eb260cd-3c2c-11ef-bca2-bc0358c07960.jpg\n",
      "Collecting images for awake, image number 3\n",
      "data\\images\\awake.6eb260ce-3c2c-11ef-9bb1-bc0358c07960.jpg\n",
      "Collecting images for awake, image number 4\n",
      "data\\images\\awake.6eb260cf-3c2c-11ef-94b0-bc0358c07960.jpg\n",
      "Collecting images for awake, image number 5\n",
      "data\\images\\awake.6eb260d0-3c2c-11ef-99b0-bc0358c07960.jpg\n",
      "Collecting images for awake, image number 6\n",
      "data\\images\\awake.6eb260d1-3c2c-11ef-9c49-bc0358c07960.jpg\n",
      "Collecting images for awake, image number 7\n",
      "data\\images\\awake.6eb260d2-3c2c-11ef-a11e-bc0358c07960.jpg\n",
      "Collecting images for awake, image number 8\n",
      "data\\images\\awake.6eb29ebc-3c2c-11ef-936e-bc0358c07960.jpg\n",
      "Collecting images for awake, image number 9\n",
      "data\\images\\awake.6eb29ebd-3c2c-11ef-a84a-bc0358c07960.jpg\n",
      "Collecting images for awake, image number 10\n",
      "data\\images\\awake.6eb29ebe-3c2c-11ef-9a76-bc0358c07960.jpg\n",
      "Collecting images for awake, image number 11\n",
      "data\\images\\awake.6eb29ebf-3c2c-11ef-a486-bc0358c07960.jpg\n",
      "Collecting images for awake, image number 12\n",
      "data\\images\\awake.6eb29ec0-3c2c-11ef-802f-bc0358c07960.jpg\n",
      "Collecting images for awake, image number 13\n",
      "data\\images\\awake.6eb29ec1-3c2c-11ef-ba48-bc0358c07960.jpg\n",
      "Collecting images for awake, image number 14\n",
      "data\\images\\awake.6eb29ec2-3c2c-11ef-80c9-bc0358c07960.jpg\n",
      "Collecting images for awake, image number 15\n",
      "data\\images\\awake.6eb29ec3-3c2c-11ef-ac22-bc0358c07960.jpg\n",
      "Collecting images for awake, image number 16\n",
      "data\\images\\awake.6eb29ec4-3c2c-11ef-98c5-bc0358c07960.jpg\n",
      "Collecting images for awake, image number 17\n",
      "data\\images\\awake.6eb29ec5-3c2c-11ef-8849-bc0358c07960.jpg\n",
      "Collecting images for awake, image number 18\n",
      "data\\images\\awake.6eb29ec6-3c2c-11ef-961c-bc0358c07960.jpg\n",
      "Collecting images for awake, image number 19\n",
      "data\\images\\awake.6eb29ec7-3c2c-11ef-9578-bc0358c07960.jpg\n",
      "Collecting images for awake, image number 20\n",
      "data\\images\\awake.6eb29ec8-3c2c-11ef-8db9-bc0358c07960.jpg\n",
      "Collecting images for awake, image number 21\n",
      "data\\images\\awake.6eb29ec9-3c2c-11ef-a52e-bc0358c07960.jpg\n",
      "Collecting images for awake, image number 22\n",
      "data\\images\\awake.6eb29eca-3c2c-11ef-af57-bc0358c07960.jpg\n",
      "Collecting images for awake, image number 23\n",
      "data\\images\\awake.6eb29ecb-3c2c-11ef-a91a-bc0358c07960.jpg\n",
      "Collecting images for awake, image number 24\n",
      "data\\images\\awake.6eb29ecc-3c2c-11ef-9506-bc0358c07960.jpg\n",
      "Collecting images for awake, image number 25\n",
      "data\\images\\awake.6eb29ecd-3c2c-11ef-bc20-bc0358c07960.jpg\n",
      "Collecting images for awake, image number 26\n",
      "data\\images\\awake.6eb29ece-3c2c-11ef-9574-bc0358c07960.jpg\n",
      "Collecting images for awake, image number 27\n",
      "data\\images\\awake.6eb29ecf-3c2c-11ef-a282-bc0358c07960.jpg\n",
      "Collecting images for awake, image number 28\n",
      "data\\images\\awake.6eb29ed0-3c2c-11ef-8965-bc0358c07960.jpg\n",
      "Collecting images for awake, image number 29\n",
      "data\\images\\awake.6eb29ed1-3c2c-11ef-af09-bc0358c07960.jpg\n",
      "Collecting images for drowsy\n",
      "Collecting images for drowsy, image number 0\n",
      "data\\images\\drowsy.6eb29ed2-3c2c-11ef-abeb-bc0358c07960.jpg\n",
      "Collecting images for drowsy, image number 1\n",
      "data\\images\\drowsy.6eb29ed3-3c2c-11ef-96a2-bc0358c07960.jpg\n",
      "Collecting images for drowsy, image number 2\n",
      "data\\images\\drowsy.6eb29ed4-3c2c-11ef-8308-bc0358c07960.jpg\n",
      "Collecting images for drowsy, image number 3\n",
      "data\\images\\drowsy.6eb29ed5-3c2c-11ef-a28a-bc0358c07960.jpg\n",
      "Collecting images for drowsy, image number 4\n",
      "data\\images\\drowsy.6eb29ed6-3c2c-11ef-9978-bc0358c07960.jpg\n",
      "Collecting images for drowsy, image number 5\n",
      "data\\images\\drowsy.6eb29ed7-3c2c-11ef-9bb1-bc0358c07960.jpg\n",
      "Collecting images for drowsy, image number 6\n",
      "data\\images\\drowsy.6eb29ed8-3c2c-11ef-b64c-bc0358c07960.jpg\n",
      "Collecting images for drowsy, image number 7\n",
      "data\\images\\drowsy.6eb29ed9-3c2c-11ef-a3ae-bc0358c07960.jpg\n",
      "Collecting images for drowsy, image number 8\n",
      "data\\images\\drowsy.6eb29eda-3c2c-11ef-815c-bc0358c07960.jpg\n",
      "Collecting images for drowsy, image number 9\n",
      "data\\images\\drowsy.6eb29edb-3c2c-11ef-a33a-bc0358c07960.jpg\n",
      "Collecting images for drowsy, image number 10\n",
      "data\\images\\drowsy.6eb29edc-3c2c-11ef-b24e-bc0358c07960.jpg\n",
      "Collecting images for drowsy, image number 11\n",
      "data\\images\\drowsy.6eb29edd-3c2c-11ef-901d-bc0358c07960.jpg\n",
      "Collecting images for drowsy, image number 12\n",
      "data\\images\\drowsy.6eb29ede-3c2c-11ef-afd4-bc0358c07960.jpg\n",
      "Collecting images for drowsy, image number 13\n",
      "data\\images\\drowsy.6eb29edf-3c2c-11ef-8360-bc0358c07960.jpg\n",
      "Collecting images for drowsy, image number 14\n",
      "data\\images\\drowsy.6eb29ee0-3c2c-11ef-9f14-bc0358c07960.jpg\n",
      "Collecting images for drowsy, image number 15\n",
      "data\\images\\drowsy.6eb29ee1-3c2c-11ef-8c24-bc0358c07960.jpg\n",
      "Collecting images for drowsy, image number 16\n",
      "data\\images\\drowsy.6eb29ee2-3c2c-11ef-a964-bc0358c07960.jpg\n",
      "Collecting images for drowsy, image number 17\n",
      "data\\images\\drowsy.6eb29ee3-3c2c-11ef-a2fa-bc0358c07960.jpg\n",
      "Collecting images for drowsy, image number 18\n",
      "data\\images\\drowsy.6eb29ee4-3c2c-11ef-8281-bc0358c07960.jpg\n",
      "Collecting images for drowsy, image number 19\n",
      "data\\images\\drowsy.6eb29ee5-3c2c-11ef-bf82-bc0358c07960.jpg\n",
      "Collecting images for drowsy, image number 20\n",
      "data\\images\\drowsy.6eb29ee6-3c2c-11ef-8c07-bc0358c07960.jpg\n",
      "Collecting images for drowsy, image number 21\n",
      "data\\images\\drowsy.6eb29ee7-3c2c-11ef-a15b-bc0358c07960.jpg\n",
      "Collecting images for drowsy, image number 22\n",
      "data\\images\\drowsy.6eb29ee8-3c2c-11ef-94f4-bc0358c07960.jpg\n",
      "Collecting images for drowsy, image number 23\n",
      "data\\images\\drowsy.6eb29ee9-3c2c-11ef-a823-bc0358c07960.jpg\n",
      "Collecting images for drowsy, image number 24\n",
      "data\\images\\drowsy.6eb29eea-3c2c-11ef-8deb-bc0358c07960.jpg\n",
      "Collecting images for drowsy, image number 25\n",
      "data\\images\\drowsy.6eb29eeb-3c2c-11ef-b011-bc0358c07960.jpg\n",
      "Collecting images for drowsy, image number 26\n",
      "data\\images\\drowsy.6eb29eec-3c2c-11ef-b944-bc0358c07960.jpg\n",
      "Collecting images for drowsy, image number 27\n",
      "data\\images\\drowsy.6eb29eed-3c2c-11ef-8444-bc0358c07960.jpg\n",
      "Collecting images for drowsy, image number 28\n",
      "data\\images\\drowsy.6eb29eee-3c2c-11ef-a045-bc0358c07960.jpg\n",
      "Collecting images for drowsy, image number 29\n",
      "data\\images\\drowsy.6eb29eef-3c2c-11ef-bbce-bc0358c07960.jpg\n"
     ]
    }
   ],
   "source": [
    "for label in labels:\n",
    "    print('Collecting images for {}'.format(label))\n",
    "    for img_num in range(number_imgs):\n",
    "        print('Collecting images for {}, image number {}'.format(label, img_num))\n",
    "        imgname = os.path.join(IMAGES_PATH, label+'.'+str(uuid.uuid1())+'.jpg')\n",
    "        print(imgname)  "
   ]
  },
  {
   "cell_type": "code",
   "execution_count": 19,
   "id": "6775e16e-59c8-4d56-a121-f707050192ac",
   "metadata": {
    "tags": []
   },
   "outputs": [
    {
     "name": "stderr",
     "output_type": "stream",
     "text": [
      "Cloning into 'labelImg'...\n"
     ]
    }
   ],
   "source": [
    "!git clone https://github.com/tzutalin/labelImg"
   ]
  },
  {
   "cell_type": "code",
   "execution_count": 20,
   "id": "0f3b677d-c9a8-445b-bfb3-2fdd5639f873",
   "metadata": {
    "tags": []
   },
   "outputs": [
    {
     "name": "stdout",
     "output_type": "stream",
     "text": [
      "Defaulting to user installation because normal site-packages is not writeable\n",
      "Requirement already satisfied: pyqt5 in c:\\programdata\\anaconda3\\lib\\site-packages (5.15.10)\n",
      "Requirement already satisfied: lxml in c:\\programdata\\anaconda3\\lib\\site-packages (4.9.3)\n",
      "Collecting lxml\n",
      "  Obtaining dependency information for lxml from https://files.pythonhosted.org/packages/04/19/d6aa2d980f220a04c91d4de538d2fea1a65535e7b0a4aec0998ce46e3667/lxml-5.2.2-cp311-cp311-win_amd64.whl.metadata\n",
      "  Downloading lxml-5.2.2-cp311-cp311-win_amd64.whl.metadata (3.5 kB)\n",
      "Requirement already satisfied: PyQt5-sip<13,>=12.13 in c:\\programdata\\anaconda3\\lib\\site-packages (from pyqt5) (12.13.0)\n",
      "Downloading lxml-5.2.2-cp311-cp311-win_amd64.whl (3.8 MB)\n",
      "   ---------------------------------------- 0.0/3.8 MB ? eta -:--:--\n",
      "    --------------------------------------- 0.1/3.8 MB 2.6 MB/s eta 0:00:02\n",
      "   -- ------------------------------------- 0.2/3.8 MB 3.0 MB/s eta 0:00:02\n",
      "   --- ------------------------------------ 0.4/3.8 MB 2.9 MB/s eta 0:00:02\n",
      "   ----- ---------------------------------- 0.5/3.8 MB 3.0 MB/s eta 0:00:02\n",
      "   ------ --------------------------------- 0.7/3.8 MB 3.0 MB/s eta 0:00:02\n",
      "   -------- ------------------------------- 0.8/3.8 MB 3.2 MB/s eta 0:00:01\n",
      "   ---------- ----------------------------- 1.0/3.8 MB 3.1 MB/s eta 0:00:01\n",
      "   ----------- ---------------------------- 1.1/3.8 MB 3.0 MB/s eta 0:00:01\n",
      "   ------------- -------------------------- 1.3/3.8 MB 3.1 MB/s eta 0:00:01\n",
      "   -------------- ------------------------- 1.4/3.8 MB 3.1 MB/s eta 0:00:01\n",
      "   ---------------- ----------------------- 1.6/3.8 MB 3.1 MB/s eta 0:00:01\n",
      "   ------------------ --------------------- 1.8/3.8 MB 3.2 MB/s eta 0:00:01\n",
      "   -------------------- ------------------- 2.0/3.8 MB 3.2 MB/s eta 0:00:01\n",
      "   ----------------------- ---------------- 2.2/3.8 MB 3.4 MB/s eta 0:00:01\n",
      "   -------------------------- ------------- 2.5/3.8 MB 3.5 MB/s eta 0:00:01\n",
      "   --------------------------- ------------ 2.7/3.8 MB 3.6 MB/s eta 0:00:01\n",
      "   ------------------------------ --------- 2.9/3.8 MB 3.6 MB/s eta 0:00:01\n",
      "   -------------------------------- ------- 3.1/3.8 MB 3.8 MB/s eta 0:00:01\n",
      "   ----------------------------------- ---- 3.4/3.8 MB 3.8 MB/s eta 0:00:01\n",
      "   -------------------------------------- - 3.6/3.8 MB 3.9 MB/s eta 0:00:01\n",
      "   ---------------------------------------  3.8/3.8 MB 3.9 MB/s eta 0:00:01\n",
      "   ---------------------------------------- 3.8/3.8 MB 3.8 MB/s eta 0:00:00\n",
      "Installing collected packages: lxml\n",
      "Successfully installed lxml-5.2.2\n"
     ]
    }
   ],
   "source": [
    "!pip install pyqt5 lxml --upgrade\n",
    "!cd labelImg && pyrcc5 -o libs/resources.py resources.qrc"
   ]
  },
  {
   "cell_type": "code",
   "execution_count": null,
   "id": "2ca862d6-a6a8-42b1-81fa-395c18918f84",
   "metadata": {
    "tags": []
   },
   "outputs": [],
   "source": [
    "!cd yolov5 && python train.py --img 320 --batch 8 --epochs 3 --data dataset.yaml --weights yolov5s.pt --workers 2"
   ]
  },
  {
   "cell_type": "code",
   "execution_count": null,
   "id": "c97d6511-b270-4fff-826b-ced599b581a9",
   "metadata": {},
   "outputs": [],
   "source": []
  }
 ],
 "metadata": {
  "kernelspec": {
   "display_name": "Python 3 (ipykernel)",
   "language": "python",
   "name": "python3"
  },
  "language_info": {
   "codemirror_mode": {
    "name": "ipython",
    "version": 3
   },
   "file_extension": ".py",
   "mimetype": "text/x-python",
   "name": "python",
   "nbconvert_exporter": "python",
   "pygments_lexer": "ipython3",
   "version": "3.11.5"
  }
 },
 "nbformat": 4,
 "nbformat_minor": 5
}
